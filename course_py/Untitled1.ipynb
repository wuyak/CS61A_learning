{
 "cells": [
  {
   "cell_type": "code",
   "execution_count": 1,
   "id": "9877db79-82c2-47a3-a285-14c761484bb5",
   "metadata": {},
   "outputs": [
    {
     "ename": "NameError",
     "evalue": "name 'plot_times' is not defined",
     "output_type": "error",
     "traceback": [
      "\u001b[0;31m---------------------------------------------------------------------------\u001b[0m",
      "\u001b[0;31mNameError\u001b[0m                                 Traceback (most recent call last)",
      "Cell \u001b[0;32mIn[1], line 10\u001b[0m\n\u001b[1;32m      7\u001b[0m     \u001b[38;5;28;01mreturn\u001b[39;00m count\n\u001b[1;32m      9\u001b[0m overlap_ranges \u001b[38;5;241m=\u001b[39m \u001b[38;5;28;01mlambda\u001b[39;00m n: overlap(\u001b[38;5;28mlist\u001b[39m(\u001b[38;5;28mrange\u001b[39m(n)), \u001b[38;5;28mlist\u001b[39m(\u001b[38;5;28mrange\u001b[39m(n)))\n\u001b[0;32m---> 10\u001b[0m \u001b[43mplot_times\u001b[49m(\u001b[38;5;124m'\u001b[39m\u001b[38;5;124moverlap_ranges\u001b[39m\u001b[38;5;124m'\u001b[39m, \u001b[38;5;28mrange\u001b[39m(\u001b[38;5;241m20\u001b[39m, \u001b[38;5;241m200\u001b[39m, \u001b[38;5;241m10\u001b[39m))\n",
      "\u001b[0;31mNameError\u001b[0m: name 'plot_times' is not defined"
     ]
    }
   ],
   "source": [
    "def overlap(a,b):\n",
    "    count = 0\n",
    "    for item in a:\n",
    "        for other in b:\n",
    "            if item == other:\n",
    "                count += 1\n",
    "    return count\n",
    "\n",
    "overlap_ranges = lambda n: overlap(list(range(n)), list(range(n)))\n",
    "plot_times('overlap_ranges', range(20, 200, 10))\n"
   ]
  }
 ],
 "metadata": {
  "kernelspec": {
   "display_name": "Python 3 (ipykernel)",
   "language": "python",
   "name": "python3"
  },
  "language_info": {
   "codemirror_mode": {
    "name": "ipython",
    "version": 3
   },
   "file_extension": ".py",
   "mimetype": "text/x-python",
   "name": "python",
   "nbconvert_exporter": "python",
   "pygments_lexer": "ipython3",
   "version": "3.12.3"
  }
 },
 "nbformat": 4,
 "nbformat_minor": 5
}
